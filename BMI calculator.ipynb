{
 "cells": [
  {
   "cell_type": "code",
   "execution_count": 2,
   "id": "264cd74b",
   "metadata": {},
   "outputs": [
    {
     "name": "stdout",
     "output_type": "stream",
     "text": [
      "Enter your height163\n",
      "Enter your weight28\n",
      "Your bmi is 0.0010538597613760398 You are underweight\n"
     ]
    }
   ],
   "source": [
    "h=float(input('Enter your height'))\n",
    "w=int(input('Enter your weight'))\n",
    "bmi=w/(h*h)\n",
    "if bmi<18.5:\n",
    "    print(\"Your bmi is\",bmi,\"You are underweight\")\n",
    "elif bmi<18.5:\n",
    "    print(\"Your bmi is\",bmi,\"You have normal weight\")\n",
    "elif bmi>25 and bmi<30:\n",
    "    print(\"Your bmi is\",bmi,\"You are slighly overweight\")\n",
    "elif bmi>30 and bmi<35:\n",
    "    print(\"Your bmi is\",bmi,\"You are obese\")\n",
    "elif bmi>35:\n",
    "    print(\"Your bmi is\",bmi,\"You are cleanically obese\")\n",
    "else:\n",
    "    print(\"Error\")"
   ]
  },
  {
   "cell_type": "code",
   "execution_count": null,
   "id": "64ab78c2",
   "metadata": {},
   "outputs": [],
   "source": []
  }
 ],
 "metadata": {
  "kernelspec": {
   "display_name": "Python 3 (ipykernel)",
   "language": "python",
   "name": "python3"
  },
  "language_info": {
   "codemirror_mode": {
    "name": "ipython",
    "version": 3
   },
   "file_extension": ".py",
   "mimetype": "text/x-python",
   "name": "python",
   "nbconvert_exporter": "python",
   "pygments_lexer": "ipython3",
   "version": "3.10.9"
  }
 },
 "nbformat": 4,
 "nbformat_minor": 5
}
